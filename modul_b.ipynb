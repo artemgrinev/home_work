{
 "cells": [
  {
   "cell_type": "code",
   "execution_count": null,
   "metadata": {
    "scrolled": true
   },
   "outputs": [],
   "source": [
    "d = '213.87.104.248 - - [24/Sep/2018:04:48:05 \"Mozilla/5.0 (Windows NT 6.1) AppleWebKit/537.36 (KHTML, like Gecko) Chrome/69.0.3497.100 Safari/537.36\"'\n",
    "sort_d=d.replace('-','').replace('[','').replace(']','').replace('(','').replace(')','').replace('\"','').split(' ')\n",
    "new_d = [i for i in sort_d if i]\n",
    "new_d"
   ]
  },
  {
   "cell_type": "code",
   "execution_count": null,
   "metadata": {},
   "outputs": [],
   "source": [
    "log_data = []\n",
    "with open('C:\\\\Users\\\\79111\\\\home_work\\\\dummy-access.log', 'r') as file:\n",
    "    for i in file:\n",
    "        log_data.append(i)"
   ]
  },
  {
   "cell_type": "code",
   "execution_count": null,
   "metadata": {},
   "outputs": [],
   "source": [
    "sort_log_data = []\n",
    "for line in log_data:\n",
    "    log = [i for i in line.replace('-','').replace('[','').replace(']','').replace('(','').replace(')','').replace('\"','').split(' ') if i]\n",
    "    sort_log_data.append(log)\n",
    "sort_log_data[1:3]"
   ]
  },
  {
   "cell_type": "code",
   "execution_count": null,
   "metadata": {},
   "outputs": [],
   "source": [
    "count=0\n",
    "for i in sort_log_data:\n",
    "    if i[0]== '127.0.0.1':\n",
    "        count+=1\n",
    "print(count)"
   ]
  },
  {
   "cell_type": "code",
   "execution_count": null,
   "metadata": {},
   "outputs": [],
   "source": [
    "log_dict = {}\n",
    "for i in sort_log_data:\n",
    "    count = 0\n",
    "    log = i[0]\n",
    "    for a in sort_log_data:\n",
    "        if a[0] == log:\n",
    "            count+=1\n",
    "    log_dict.update(log=count)"
   ]
  },
  {
   "cell_type": "code",
   "execution_count": null,
   "metadata": {},
   "outputs": [],
   "source": [
    "class NutritionInfo:\n",
    "    def __init__(self, proteins, carbs, fats):\n",
    "        self.proteins = proteins\n",
    "        self.carbs = carbs\n",
    "        self.fats = fats\n",
    "    \n",
    "    def energy(self):\n",
    "        return int(self.fats * 9 + (self.carbs + self.proteins) * 4.2)\n",
    "    \n",
    "    def __mul__(self, other):\n",
    "        return self * other\n",
    "    def __add__(self,other):\n",
    "        return self+other\n",
    "tvorog_9 = NutritionInfo(18, 3, 9)\n",
    "apple = NutritionInfo(0, 25, 0)\n",
    "\n",
    "breakfast = apple * 2 + tvorog_9\n",
    "print(breakfast.energy())"
   ]
  },
  {
   "cell_type": "code",
   "execution_count": null,
   "metadata": {},
   "outputs": [],
   "source": [
    "class C:\n",
    "    def __call__(self):\n",
    "        print(\"Это объект класса C\")\n",
    "\n",
    "obj = C()\n",
    "\n",
    "def f():\n",
    "    print(\"Это функция f\")\n",
    "\n",
    "obj()\n",
    "f()\n",
    "print(obj())"
   ]
  },
  {
   "cell_type": "code",
   "execution_count": 6,
   "metadata": {},
   "outputs": [
    {
     "name": "stdout",
     "output_type": "stream",
     "text": [
      "введите число1000 \n",
      "266333\n"
     ]
    }
   ],
   "source": [
    "fizzbuzz=[]\n",
    "intebger = int(input('введите число'))\n",
    "for i in range(1, intebger):\n",
    "    if i%3==0:\n",
    "        fizzbuzz.append(i)\n",
    "    if i%5==0:\n",
    "        fizzbuzz.append(i)\n",
    "print(sum(fizzbuzz))"
   ]
  },
  {
   "cell_type": "code",
   "execution_count": 13,
   "metadata": {},
   "outputs": [
    {
     "data": {
      "text/plain": [
       "27142139"
      ]
     },
     "execution_count": 13,
     "metadata": {},
     "output_type": "execute_result"
    }
   ],
   "source": [
    "def fizzbuzz(*dividers, N=10000):\n",
    "    return sum(\n",
    "        n for n in range(1, N) if any(n % div == 0 for div in dividers)\n",
    "    )\n",
    "fizzbuzz(3, 5, 7, 10000)"
   ]
  },
  {
   "cell_type": "code",
   "execution_count": 17,
   "metadata": {},
   "outputs": [
    {
     "data": {
      "text/plain": [
       "4613732"
      ]
     },
     "execution_count": 17,
     "metadata": {},
     "output_type": "execute_result"
    }
   ],
   "source": [
    "def fib(up_to_n):\n",
    "    seq = [1]\n",
    "    a, b = 1, 2\n",
    "    while b < up_to_n:\n",
    "        c = a + b \n",
    "        a = b\n",
    "        b = c\n",
    "        seq.append(a)\n",
    "    return seq\n",
    "sum(i for i in fib(4000000) if i%2==0)"
   ]
  },
  {
   "cell_type": "code",
   "execution_count": 20,
   "metadata": {},
   "outputs": [
    {
     "data": {
      "text/plain": [
       "'студентов'"
      ]
     },
     "execution_count": 20,
     "metadata": {},
     "output_type": "execute_result"
    }
   ],
   "source": [
    "def make_russian(n):\n",
    "    last_digit = n % 10\n",
    "    ast_two = n % 100\n",
    "    if last_digit == 1 and last_two != 11:\n",
    "        ending = \"студент\"\n",
    "    elif last_digit in [2, 3, 4] and not (last_two in [12, 13, 14]):\n",
    "        ending = \"студента\"\n",
    "    else:\n",
    "        ending = \"студентов\"\n",
    "    return ending\n",
    "make_russian(10)"
   ]
  },
  {
   "cell_type": "code",
   "execution_count": 41,
   "metadata": {},
   "outputs": [],
   "source": [
    "import time\n",
    "\n",
    "class LeadTimeFunc:\n",
    "    '''Вычисляет среднее время выполнения функции\n",
    "        input: LeadTimeFunc(функция)\n",
    "        output: среднее время выполнения функции'''\n",
    "    \n",
    "    def __init__(self, func):\n",
    "        self.number_of_launches = 1000\n",
    "        self.func = func\n",
    "        \n",
    "    def __call__(self,*args, **kwargs):\n",
    "        total_time = 0\n",
    "        for i in range(1, self.number_of_launches):\n",
    "            start = time.time()\n",
    "            self.func(*args, **kwargs)\n",
    "            end = time.time()\n",
    "            total_time+=(end-start)\n",
    "        average_time = total_time/self.number_of_launches\n",
    "        print(f'среднее время выполнения функции за {self.number_of_launches} запусков: {average_time}')\n",
    "        return self.func(*args, **kwargs)\n",
    "@LeadTimeFunc\n",
    "def fib(n):\n",
    "    num = []\n",
    "    a, b = 1, 2\n",
    "    while b < n:\n",
    "        c = a + b \n",
    "        a = b\n",
    "        b = c\n",
    "        num.append(a)\n",
    "    return num\n",
    "fib(1000)"
   ]
  },
  {
   "cell_type": "code",
   "execution_count": null,
   "metadata": {},
   "outputs": [],
   "source": []
  }
 ],
 "metadata": {
  "kernelspec": {
   "display_name": "Python 3",
   "language": "python",
   "name": "python3"
  },
  "language_info": {
   "codemirror_mode": {
    "name": "ipython",
    "version": 3
   },
   "file_extension": ".py",
   "mimetype": "text/x-python",
   "name": "python",
   "nbconvert_exporter": "python",
   "pygments_lexer": "ipython3",
   "version": "3.7.6"
  }
 },
 "nbformat": 4,
 "nbformat_minor": 4
}
